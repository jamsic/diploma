{
 "metadata": {
  "name": "",
  "signature": "sha256:8fb5ce357f1eea7581e4c98a8e57cd00a385fef48e17c906f910fcc1a1c29acf"
 },
 "nbformat": 3,
 "nbformat_minor": 0,
 "worksheets": [
  {
   "cells": [
    {
     "cell_type": "code",
     "collapsed": false,
     "input": [
      "def get_text(filename):\n",
      "    handle = open(filename)\n",
      "    return handle.read().decode('utf-8')"
     ],
     "language": "python",
     "metadata": {},
     "outputs": [],
     "prompt_number": 1
    },
    {
     "cell_type": "code",
     "collapsed": false,
     "input": [
      "def text_to_sentences(text):\n",
      "    return text.split('.')\n",
      "\n",
      "def norm(word):\n",
      "    word_ = []\n",
      "    for letter in word:\n",
      "        if letter.isalpha() or letter == \"-\":\n",
      "            word_.append(letter)\n",
      "    word = \"\".join(word_)\n",
      "    return word\n",
      "\n",
      "import pymorphy2\n",
      "morph = pymorphy2.MorphAnalyzer()\n",
      "\n",
      "def get_osnov(sentence):\n",
      "    skazuemoe = ['']\n",
      "    podlezh = ['']\n",
      "    dopolnenie = ['']\n",
      "    list_of_words = sentence.split()\n",
      "    new_list_of_words=[]\n",
      "    for word in list_of_words:\n",
      "        word=norm(word)\n",
      "        new_list_of_words.append(word)\n",
      "    for word in new_list_of_words:\n",
      "        #print(word)\n",
      "        if morph.parse(word):\n",
      "            #print(morph.parse(word))\n",
      "            p = morph.parse(word)[0]\n",
      "            if 'VERB' in p.tag:\n",
      "                #print(word)\n",
      "                skazuemoe=[word]\n",
      "                #print(skazuemoe)\n",
      "                #print(p.tag.transitivity)\n",
      "                #print(corr)\n",
      "                #print(p.tag.gender)\n",
      "                #if p.tag.gender:\n",
      "                #       print(p.tag.gender)\n",
      "                #if p.tag.number:\n",
      "                #       print(p.tag.number)\n",
      "                #if p.tag.person:\n",
      "                #       print(p.tag.person)\n",
      "                #podlezh=[\"\"]\n",
      "                #dopolnenie=['']\n",
      "                for word2 in new_list_of_words:\n",
      "                    #print(word2)\n",
      "                    if morph.parse(word2):\n",
      "                        p2 = morph.parse(word2)[0]\n",
      "                        if (p.tag.number==p2.tag.number and (p2.tag.POS=='NOUN' or p2.tag.POS=='NPRO') and p2.tag.case=='nomn'):\n",
      "                            #print(word2)\n",
      "                            # \u0435\u0441\u043b\u0438 1 \u0438\u043b\u0438 2 \u043b\u0438\u0446\u043e - \u0438\u0449\u0435\u043c \u043c\u0435\u0441\u0442\u043e\u0438\u043c\u0435\u043d\u0438\u044f\n",
      "                            if (p.tag.person):\n",
      "                                if (p.tag.person=='1per' or p.tag.person=='2per'):\n",
      "                                    if (p.tag.person==p2.tag.person):\n",
      "                                        podlezh.append(word2)\n",
      "                                if (p.tag.person=='3per'):\n",
      "                                    if (p2.tag.POS=='NPRO' and p2.tag.person=='3per'):\n",
      "                                        podlezh.append(word2)\n",
      "                                    if (p2.tag.POS=='NOUN'):\n",
      "                                        podlezh.append(word2)\n",
      "                                        #print(\"\u043f\u043e\u0434\u043b\u0435\u0436\u0430\u0449\u0435\u0435 \u0438 \u0441\u043a\u0430\u0437\u0443\u0435\u043c\u043e\u0435 - \"+podlezh+\" \"+skazuemoe)\n",
      "                            else:\n",
      "                                if (p.tag.gender):\n",
      "                                    if (p.tag.gender==p2.tag.gender):\n",
      "                                        podlezh.append(word2)\n",
      "                                else:\n",
      "                                    if (p.tag.number=='plur' and p2.tag.number=='plur'):\n",
      "                                        podlezh.append(word2)\n",
      "                                        #print(\"\u043f\u043e\u0434\u043b\u0435\u0436\u0430\u0449\u0435\u0435 \u0438 \u0441\u043a\u0430\u0437\u0443\u0435\u043c\u043e\u0435 - \"+podlezh[0]+\" \"+skazuemoe)\n",
      "                        if ((p2.tag.POS=='INFN') or (p2.tag.POS=='PRTS')):\n",
      "                            skazuemoe.append(word2)\n",
      "                        if (p.tag.transitivity=='tran'):\n",
      "                            if ((p2.tag.POS=='NOUN' or p2.tag.POS=='NPRO') and (p2.tag.case=='accs')):\n",
      "                                dopolnenie.append(word2)  \n",
      "    dop=''\n",
      "    podl=''\n",
      "    skaz=''\n",
      "    for i in range(len(podlezh)):\n",
      "        podl=podl+podlezh[i]+\" \"\n",
      "    for i in range(len(skazuemoe)):\n",
      "        skaz=skaz+skazuemoe[i]+\" \"\n",
      "    for i in range(len(dopolnenie)):\n",
      "        dop=dop+dopolnenie[i]+\" \"\n",
      "                                    #print(podl)\n",
      "                                    #print(\"\u043f\u043e\u0434\u043b\u0435\u0436\u0430\u0449\u0435\u0435 \u0438 \u0441\u043a\u0430\u0437\u0443\u0435\u043c\u043e\u0435 - \"+podl+\" \"+skazuemoe)\n",
      "    return (podl, skaz, dop)"
     ],
     "language": "python",
     "metadata": {},
     "outputs": [],
     "prompt_number": 33
    },
    {
     "cell_type": "code",
     "collapsed": false,
     "input": [
      "filename = 'sentences'\n",
      "\n",
      "text = get_text(filename)"
     ],
     "language": "python",
     "metadata": {},
     "outputs": [],
     "prompt_number": 34
    },
    {
     "cell_type": "code",
     "collapsed": false,
     "input": [
      "sentences = text_to_sentences(text)"
     ],
     "language": "python",
     "metadata": {},
     "outputs": [],
     "prompt_number": 35
    },
    {
     "cell_type": "code",
     "collapsed": false,
     "input": [
      "for sentence in sentences: # rule-based\n",
      "    print(sentence)\n",
      "    osnov = get_osnov(sentence)\n",
      "    if osnov != (' ',' ',' '):\n",
      "        print('\u043f\u043e\u0434\u043b\u0435\u0436\u0430\u0449\u0435\u0435')\n",
      "        print(osnov[0])\n",
      "        print('\u0441\u043a\u0430\u0437\u0443\u0435\u043c\u043e\u0435')\n",
      "        print(osnov[1])\n",
      "        print('\u0434\u043e\u043f\u043e\u043b\u043d\u0435\u043d\u0438\u0435')\n",
      "        print(osnov[2])\n",
      "    else:\n",
      "        print('\u043d\u0435 \u043d\u0430\u0439\u0434\u0435\u043d\u043e')"
     ],
     "language": "python",
     "metadata": {},
     "outputs": [
      {
       "output_type": "stream",
       "stream": "stdout",
       "text": [
        "\u041c\u0430\u043c\u0430 \u043c\u044b\u043b\u0430 \u0440\u0430\u043c\u0443\n",
        "\u043d\u0435 \u043d\u0430\u0439\u0434\u0435\u043d\u043e\n",
        "\n",
        "\u042f \u0445\u043e\u0447\u0443 \u0441\u043f\u0430\u0442\u044c\n",
        "\u043f\u043e\u0434\u043b\u0435\u0436\u0430\u0449\u0435\u0435\n",
        " \u042f \n",
        "\u0441\u043a\u0430\u0437\u0443\u0435\u043c\u043e\u0435\n",
        "\u0445\u043e\u0447\u0443 \u0441\u043f\u0430\u0442\u044c \n",
        "\u0434\u043e\u043f\u043e\u043b\u043d\u0435\u043d\u0438\u0435\n",
        " \n",
        "\n",
        "\u0412\u043b\u0430\u0434\u0438\u043c\u0438\u0440 \u043a\u0440\u0435\u0441\u0442\u0438\u043b \u0420\u0443\u0441\u044c\n",
        "\u043f\u043e\u0434\u043b\u0435\u0436\u0430\u0449\u0435\u0435\n",
        " \u0412\u043b\u0430\u0434\u0438\u043c\u0438\u0440 \n",
        "\u0441\u043a\u0430\u0437\u0443\u0435\u043c\u043e\u0435\n",
        "\u043a\u0440\u0435\u0441\u0442\u0438\u043b \n",
        "\u0434\u043e\u043f\u043e\u043b\u043d\u0435\u043d\u0438\u0435\n",
        " \n",
        "\n",
        "\u041c\u0430\u043c\u0430 \u043f\u043e\u043c\u044b\u043b\u0430 \u0440\u0430\u043c\u0443\n",
        "\u043f\u043e\u0434\u043b\u0435\u0436\u0430\u0449\u0435\u0435\n",
        " \u041c\u0430\u043c\u0430 \n",
        "\u0441\u043a\u0430\u0437\u0443\u0435\u043c\u043e\u0435\n",
        "\u043f\u043e\u043c\u044b\u043b\u0430 \n",
        "\u0434\u043e\u043f\u043e\u043b\u043d\u0435\u043d\u0438\u0435\n",
        " \n",
        "\n",
        "\u0411\u044b\u043b\u043e \u0411\u043e\u0440\u043e\u0434\u0438\u043d\u043e \u0441\u0435\u043b\u043e\n",
        "\u043f\u043e\u0434\u043b\u0435\u0436\u0430\u0449\u0435\u0435\n",
        " \u0411\u043e\u0440\u043e\u0434\u0438\u043d\u043e \u0411\u043e\u0440\u043e\u0434\u0438\u043d\u043e \n",
        "\u0441\u043a\u0430\u0437\u0443\u0435\u043c\u043e\u0435\n",
        "\u0441\u0435\u043b\u043e \n",
        "\u0434\u043e\u043f\u043e\u043b\u043d\u0435\u043d\u0438\u0435\n",
        " \n",
        "\n",
        "\n",
        "\u043d\u0435 \u043d\u0430\u0439\u0434\u0435\u043d\u043e\n"
       ]
      }
     ],
     "prompt_number": 36
    },
    {
     "cell_type": "code",
     "collapsed": false,
     "input": [],
     "language": "python",
     "metadata": {},
     "outputs": [],
     "prompt_number": 5
    },
    {
     "cell_type": "code",
     "collapsed": false,
     "input": [
      "import pymorphy2\n",
      "morph = pymorphy2.MorphAnalyzer()\n",
      "\n",
      "def find_skaz(sentence):\n",
      "    sim_to_skaz = []\n",
      "    words = sentence.split()\n",
      "    for word in words:\n",
      "        word = norm(word)\n",
      "        print(word)\n",
      "        verb_prob, not_verb_prob = 0, 0\n",
      "        prts_prob, prtf_prob = 0, 0\n",
      "        morphparses = morph.parse(word)\n",
      "        if morphparses:\n",
      "            for morphparse in morphparses:\n",
      "                if 'VERB' in morphparse.tag or 'INFN' in morphparse.tag:\n",
      "                    verb_prob += 1\n",
      "                else:\n",
      "                    not_verb_prob += 1\n",
      "                if 'PRTS' in morphparse.tag:\n",
      "                    prts_prob += 1\n",
      "                if 'PRTF' in morphparse.tag:\n",
      "                    prtf_prob += 1\n",
      "        print(verb_prob / float(verb_prob + not_verb_prob), prts_prob, prtf_prob)"
     ],
     "language": "python",
     "metadata": {},
     "outputs": [],
     "prompt_number": 6
    },
    {
     "cell_type": "code",
     "collapsed": false,
     "input": [
      "find_skaz(u'\u043c\u0430\u043c\u0430 \u043c\u044b\u043b\u0430 \u0440\u0430\u043c\u0443')"
     ],
     "language": "python",
     "metadata": {},
     "outputs": [
      {
       "output_type": "stream",
       "stream": "stdout",
       "text": [
        "\u043c\u0430\u043c\u0430\n",
        "(0.0, 0, 0)\n",
        "\u043c\u044b\u043b\u0430\n",
        "(0.25, 0, 0)\n",
        "\u0440\u0430\u043c\u0443\n",
        "(0.0, 0, 0)\n"
       ]
      }
     ],
     "prompt_number": 7
    },
    {
     "cell_type": "code",
     "collapsed": false,
     "input": [
      "find_skaz(u'\u043c\u0430\u043c\u0430 \u0441\u0435\u043b\u0430 \u043e\u0442\u0434\u043e\u0445\u043d\u0443\u0442\u044c.')"
     ],
     "language": "python",
     "metadata": {},
     "outputs": [
      {
       "output_type": "stream",
       "stream": "stdout",
       "text": [
        "\u043c\u0430\u043c\u0430\n",
        "(0.0, 0, 0)\n",
        "\u0441\u0435\u043b\u0430\n",
        "(0.25, 0, 0)\n",
        "\u043e\u0442\u0434\u043e\u0445\u043d\u0443\u0442\u044c\n",
        "(1.0, 0, 0)\n"
       ]
      }
     ],
     "prompt_number": 8
    },
    {
     "cell_type": "code",
     "collapsed": false,
     "input": [
      "find_skaz(u'\u041e\u043d \u0431\u044b\u043b \u043f\u043e\u0431\u0435\u0436\u0434\u0435\u043d.')"
     ],
     "language": "python",
     "metadata": {},
     "outputs": [
      {
       "output_type": "stream",
       "stream": "stdout",
       "text": [
        "\u041e\u043d\n",
        "(0.0, 0, 0)\n",
        "\u0431\u044b\u043b\n",
        "(1.0, 0, 0)\n",
        "\u043f\u043e\u0431\u0435\u0436\u0434\u0435\u043d\n",
        "(0.0, 1, 0)\n"
       ]
      }
     ],
     "prompt_number": 9
    },
    {
     "cell_type": "code",
     "collapsed": false,
     "input": [
      "find_skaz(u'\u0411\u043e\u0440\u043e\u0434\u0438\u043d\u043e \u0431\u044b\u043b\u043e \u0441\u0435\u043b\u043e')"
     ],
     "language": "python",
     "metadata": {},
     "outputs": [
      {
       "output_type": "stream",
       "stream": "stdout",
       "text": [
        "\u0411\u043e\u0440\u043e\u0434\u0438\u043d\u043e\n",
        "(0.0, 0, 0)\n",
        "\u0431\u044b\u043b\u043e\n",
        "(0.5, 0, 0)\n",
        "\u0441\u0435\u043b\u043e\n",
        "(0.3333333333333333, 0, 0)\n"
       ]
      }
     ],
     "prompt_number": 10
    },
    {
     "cell_type": "code",
     "collapsed": false,
     "input": [
      "morph.parse(u'\u0431\u044b\u043b\u043e')"
     ],
     "language": "python",
     "metadata": {},
     "outputs": [
      {
       "metadata": {},
       "output_type": "pyout",
       "prompt_number": 85,
       "text": [
        "[Parse(word=u'\\u0431\\u044b\\u043b\\u043e', tag=OpencorporaTag('VERB,impf,intr neut,sing,past,indc'), normal_form=u'\\u0431\\u044b\\u0442\\u044c', score=0.963576, methods_stack=((<DictionaryAnalyzer>, u'\\u0431\\u044b\\u043b\\u043e', 584, 6),)),\n",
        " Parse(word=u'\\u0431\\u044b\\u043b\\u043e', tag=OpencorporaTag('PRCL'), normal_form=u'\\u0431\\u044b\\u043b\\u043e', score=0.036423, methods_stack=((<DictionaryAnalyzer>, u'\\u0431\\u044b\\u043b\\u043e', 21, 0),))]"
       ]
      }
     ],
     "prompt_number": 85
    },
    {
     "cell_type": "code",
     "collapsed": false,
     "input": [
      "def prob(word, POS):\n",
      "    probab, probab_not = 0, 0\n",
      "    morphparses = morph.parse(word)\n",
      "    if morphparses:\n",
      "        for morphparse in morphparses:\n",
      "            if POS in morphparse.tag:\n",
      "                probab += 1\n",
      "            else:\n",
      "                probab_not += 1\n",
      "    return probab / float(probab +  probab_not)\n",
      "\n",
      "def prob_verb(word):\n",
      "    return prob(word, 'VERB')\n",
      "\n",
      "def prob_inf(word):\n",
      "    return prob(word, 'INFN')\n",
      "\n",
      "def prob_PRTS(word):\n",
      "    return prob(word, 'PRTS')\n",
      "\n",
      "def prob_PRTF(word):\n",
      "    return prob(word, 'PRTF')\n",
      "\n",
      "def prob_GRND(word):\n",
      "    return prob(word, 'GRND')\n",
      "\n",
      "\n",
      "import pymorphy2\n",
      "morph = pymorphy2.MorphAnalyzer()\n",
      "\n",
      "def is_NOUN_or_NPRO_according(word, words):\n",
      "    morphparses = morph.parse(word)\n",
      "    verb_morphparse = None\n",
      "    for morphparse in morphparses:\n",
      "        if 'VERB' in morphparse.tag:\n",
      "            verb_morphparse = morphparse\n",
      "    for word in words:\n",
      "        word = norm(word)\n",
      "        morphparses = morph.parse(word)\n",
      "        for morphparse in morphparses:\n",
      "            votes_for = 0\n",
      "            if ('NOUN' in morphparse.tag or 'NPRO' in morphparse.tag):\n",
      "                if morphparse.tag.number == verb_morphparse.tag.number:\n",
      "                    votes_for += 1\n",
      "                if verb_morphparse.tag.tense == 'past' and morphparse.tag.gender and morphparse.tag.gender == verb_morphparse.tag.gender:\n",
      "                    votes_for += 1\n",
      "                if verb_morphparse.tag.person and morphparse.tag.person and verb_morphparse.tag.person == morphparse.tag.person:\n",
      "                    votes_for += 1\n",
      "            if votes_for > 0: # \u043e\u0442 \u0431\u0430\u043b\u0434\u044b\n",
      "                return 1\n",
      "    return 0\n",
      "        \n",
      "\n",
      "def to_simple_vector(word, sentence):\n",
      "    is_NOUN_or_NPRO_accord = 0\n",
      "    probab_verb = prob_verb(word)\n",
      "    if probab_verb > 0:\n",
      "        is_NOUN_or_NPRO_accord = is_NOUN_or_NPRO_according(word, sentence)\n",
      "    return [probab_verb, prob_inf(word), prob_PRTS(word), prob_PRTF(word), prob_GRND(word), is_NOUN_or_NPRO_accord]\n",
      "\n",
      "def is_more_verb_prob(vector, simple_vectors):\n",
      "    for vec in simple_vectors:\n",
      "        if vec[0] > vector[0]:\n",
      "            return 1\n",
      "    return 0"
     ],
     "language": "python",
     "metadata": {},
     "outputs": [],
     "prompt_number": 90
    },
    {
     "cell_type": "code",
     "collapsed": false,
     "input": [
      "to_simple_vector(u'\u043c\u044b\u043b\u0430', '')"
     ],
     "language": "python",
     "metadata": {},
     "outputs": [
      {
       "metadata": {},
       "output_type": "pyout",
       "prompt_number": 91,
       "text": [
        "[0.25, 0.0, 0.0, 0.0, 0.0, 0]"
       ]
      }
     ],
     "prompt_number": 91
    },
    {
     "cell_type": "code",
     "collapsed": false,
     "input": [
      "def to_vector(sentence):\n",
      "    words = sentence.split()\n",
      "    simple_vectors = []\n",
      "    for word in words:\n",
      "        word = norm(word)\n",
      "        simple_vectors.append(to_simple_vector(word, words))\n",
      "    for vector in simple_vectors:\n",
      "        vector.append(is_more_verb_prob(vector, simple_vectors))\n",
      "    return simple_vectors"
     ],
     "language": "python",
     "metadata": {},
     "outputs": [],
     "prompt_number": 92
    },
    {
     "cell_type": "code",
     "collapsed": false,
     "input": [
      "to_vector(u'\u041c\u0430\u043c\u0430 \u043c\u044b\u043b\u0430 \u0440\u0430\u043c\u0443.')\n",
      "X = to_vector(u'\u041c\u0430\u043c\u0430 \u043c\u044b\u043b\u0430 \u0440\u0430\u043c\u0443.') + to_vector(u'\u041e\u043d \u0431\u044b\u043b \u043f\u043e\u0431\u0435\u0436\u0434\u0435\u043d.')\n",
      "X"
     ],
     "language": "python",
     "metadata": {},
     "outputs": [
      {
       "metadata": {},
       "output_type": "pyout",
       "prompt_number": 127,
       "text": [
        "[[0.0, 0.0, 0.0, 0.0, 0.0, 0, 1],\n",
        " [0.25, 0.0, 0.0, 0.0, 0.0, 1, 0],\n",
        " [0.0, 0.0, 0.0, 0.0, 0.0, 0, 1],\n",
        " [0.0, 0.0, 0.0, 0.0, 0.0, 0, 1],\n",
        " [1.0, 0.0, 0.0, 0.0, 0.0, 1, 0],\n",
        " [0.0, 0.0, 1.0, 0.0, 0.0, 0, 1]]"
       ]
      }
     ],
     "prompt_number": 127
    },
    {
     "cell_type": "code",
     "collapsed": false,
     "input": [
      "from sklearn import svm\n",
      "#X = to_vector(u'\u041c\u0430\u043c\u0430 \u043c\u044b\u043b\u0430 \u0440\u0430\u043c\u0443.')\n",
      "y = [0, 1, 0, 0, 1, 1]\n",
      "clf = svm.SVC()\n",
      "clf.fit(X, y)  "
     ],
     "language": "python",
     "metadata": {},
     "outputs": [
      {
       "metadata": {},
       "output_type": "pyout",
       "prompt_number": 128,
       "text": [
        "SVC(C=1.0, cache_size=200, class_weight=None, coef0=0.0, degree=3, gamma=0.0,\n",
        "  kernel='rbf', max_iter=-1, probability=False, random_state=None,\n",
        "  shrinking=True, tol=0.001, verbose=False)"
       ]
      }
     ],
     "prompt_number": 128
    },
    {
     "cell_type": "code",
     "collapsed": false,
     "input": [
      "pre = to_vector(u'\u041c\u0430\u043c\u0430 \u043c\u044b\u043b\u0430 \u043e\u043a\u043d\u043e.')\n",
      "\n",
      "clf.predict(pre)"
     ],
     "language": "python",
     "metadata": {},
     "outputs": [
      {
       "metadata": {},
       "output_type": "pyout",
       "prompt_number": 131,
       "text": [
        "array([0, 1, 0])"
       ]
      }
     ],
     "prompt_number": 131
    },
    {
     "cell_type": "code",
     "collapsed": false,
     "input": [
      "pre"
     ],
     "language": "python",
     "metadata": {},
     "outputs": [
      {
       "metadata": {},
       "output_type": "pyout",
       "prompt_number": 130,
       "text": [
        "[[0.0, 0.0, 0.0, 0.0, 0.0, 0, 1],\n",
        " [0.25, 0.0, 0.0, 0.0, 0.0, 1, 0],\n",
        " [0.0, 0.0, 0.0, 0.0, 0.0, 0, 1]]"
       ]
      }
     ],
     "prompt_number": 130
    },
    {
     "cell_type": "code",
     "collapsed": false,
     "input": [],
     "language": "python",
     "metadata": {},
     "outputs": []
    }
   ],
   "metadata": {}
  }
 ]
}